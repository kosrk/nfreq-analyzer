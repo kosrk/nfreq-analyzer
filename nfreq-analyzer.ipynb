{
 "cells": [
  {
   "cell_type": "code",
   "execution_count": 1,
   "metadata": {},
   "outputs": [],
   "source": [
    "#from scipy.signal import argrelmax\n",
    "#from scipy.signal import find_peaks\n",
    "#from scipy.fftpack import fft\n",
    "import pandas as pd\n",
    "import numpy as np\n",
    "import matplotlib.pyplot as plt\n",
    "import scipy\n",
    "from scipy.io import wavfile\n",
    "from numpy import fft"
   ]
  },
  {
   "cell_type": "code",
   "execution_count": 2,
   "metadata": {},
   "outputs": [],
   "source": [
    "DataFolder = \"test_data/\"\n",
    "\n",
    "# WAV files of sounds in the same conditions: fixation, distance, tool ...\n",
    "NormalFileNames_Case1 = [DataFolder+\"Case_1_44khz_n\"+str(no+1)+\".wav\" for no in range(13)]\n",
    "NormalFileNames_Case2 = [DataFolder+\"Case_2_44khz_n\"+str(no+1)+\".wav\" for no in range(11)]\n",
    "NormalFileNames_Case3 = [DataFolder+\"Case_3_44khz_n\"+str(no+1)+\".wav\" for no in range(12)]\n",
    "\n",
    "# WAV files of sounds in various conditions\n",
    "RandomFileNames_Case1 = [DataFolder+\"Case_1_44khz_r\"+str(no+1)+\".wav\" for no in range(10)]\n",
    "RandomFileNames_Case2 = [DataFolder+\"Case_2_44khz_r\"+str(no+1)+\".wav\" for no in range(14)]\n",
    "RandomFileNames_Case3 = [DataFolder+\"Case_3_44khz_r\"+str(no+1)+\".wav\" for no in range(17)]\n",
    "\n",
    "# WAV files of sounds of modified case\n",
    "ModFileNames_Case1 = [DataFolder+\"Case_1_44khz_m\"+str(no+1)+\".wav\" for no in range(3)]\n",
    "\n",
    "# WAV files of background noise\n",
    "BackNoise_Case1 =  [DataFolder+\"Case_1_Back_noise.wav\"]\n",
    "BackNoise_Case2 =  [DataFolder+\"Case_2_Back_noise.wav\"]\n",
    "BackNoise_Case3 =  [DataFolder+\"Case_3_Back_noise.wav\"]"
   ]
  },
  {
   "cell_type": "code",
   "execution_count": 3,
   "metadata": {},
   "outputs": [],
   "source": [
    "# Function for reading audio data\n",
    "\n",
    "def ReadAudioData(FileNamesList):    \n",
    "    idx = 0\n",
    "    FreqList = []\n",
    "    AudioDataList = []\n",
    "    for filename in FileNamesList:\n",
    "        freq, audiodata = scipy.io.wavfile.read(filename)\n",
    "        FreqList.append(freq)\n",
    "        AudioDataList.append(audiodata)\n",
    "        idx += 1\n",
    "    return FreqList, AudioDataList[:]"
   ]
  },
  {
   "cell_type": "code",
   "execution_count": 4,
   "metadata": {},
   "outputs": [
    {
     "name": "stderr",
     "output_type": "stream",
     "text": [
      "/opt/conda/lib/python3.6/site-packages/scipy/io/wavfile.py:273: WavFileWarning: Chunk (non-data) not understood, skipping it.\n",
      "  WavFileWarning)\n"
     ]
    }
   ],
   "source": [
    "# Read wav files\n",
    "\n",
    "NormalCase1_freq, NormalCase1_audiodata = ReadAudioData(NormalFileNames_Case1)\n",
    "NormalCase2_freq, NormalCase2_audiodata = ReadAudioData(NormalFileNames_Case2)\n",
    "NormalCase3_freq, NormalCase3_audiodata = ReadAudioData(NormalFileNames_Case3)\n",
    "\n",
    "RandomCase1_freq, RandomCase1_audiodata = ReadAudioData(RandomFileNames_Case1)\n",
    "RandomCase2_freq, RandomCase2_audiodata = ReadAudioData(RandomFileNames_Case2)\n",
    "RandomCase3_freq, RandomCase3_audiodata = ReadAudioData(RandomFileNames_Case3)\n",
    "\n",
    "BackNoise_Case1_freq, BackNoise_Case1_audiodata = ReadAudioData(BackNoise_Case1) \n",
    "BackNoise_Case2_freq, BackNoise_Case2_audiodata = ReadAudioData(BackNoise_Case2) \n",
    "BackNoise_Case3_freq, BackNoise_Case3_audiodata = ReadAudioData(BackNoise_Case3)"
   ]
  },
  {
   "cell_type": "code",
   "execution_count": 5,
   "metadata": {},
   "outputs": [],
   "source": [
    "# Function for transformation to spectrum\n",
    "\n",
    "def ConvertToSpectrum(freq, audiodata):\n",
    "    # fourier = fft(audiodata)\n",
    "    # NumberOfPoints = len(audiodata)\n",
    "    # scale by the number of points so that the magnitude does not depend on the length ???\n",
    "    # fourier = fourier / float(NumberOfPoints)\n",
    "    spectrum, freqs, line = plt.magnitude_spectrum(audiodata, Fs = freq) "
   ]
  },
  {
   "cell_type": "code",
   "execution_count": 6,
   "metadata": {},
   "outputs": [
    {
     "data": {
      "image/png": "[encoded data removed]",
      "text/plain": [
       "<Figure size 432x288 with 1 Axes>"
      ]
     },
     "metadata": {
      "needs_background": "light"
     },
     "output_type": "display_data"
    }
   ],
   "source": [
    "ConvertToSpectrum(NormalCase1_freq[0], NormalCase1_audiodata[0])\n",
    "ConvertToSpectrum(NormalCase1_freq[1], NormalCase1_audiodata[1])\n",
    "ConvertToSpectrum(NormalCase1_freq[2], NormalCase1_audiodata[2])\n",
    "ConvertToSpectrum(NormalCase1_freq[3], NormalCase1_audiodata[3])"
   ]
  }
 ],
 "metadata": {
  "kernelspec": {
   "display_name": "Python 3",
   "language": "python",
   "name": "python3"
  },
  "language_info": {
   "codemirror_mode": {
    "name": "ipython",
    "version": 3
   },
   "file_extension": ".py",
   "mimetype": "text/x-python",
   "name": "python",
   "nbconvert_exporter": "python",
   "pygments_lexer": "ipython3",
   "version": "3.6.7"
  }
 },
 "nbformat": 4,
 "nbformat_minor": 2
}
